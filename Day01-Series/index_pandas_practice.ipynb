{
 "cells": [
  {
   "cell_type": "markdown",
   "id": "31697bf1-d956-49ff-9705-66f196e94082",
   "metadata": {},
   "source": [
    "This is a **solid summary of Pandas DataFrame Indexing**,\n",
    "\n",
    "---\n",
    "\n",
    "## ✅ Pandas Indexing: Key Concepts\n",
    "\n",
    "### 🔹 1. **Access the index**\n",
    "\n",
    "```python\n",
    "df.index\n",
    "```\n",
    "\n",
    "🧠 Tells you how rows are labeled (default: `RangeIndex`).\n",
    "\n",
    "---\n",
    "\n",
    "### 🔹 2. **Set a column as index**\n",
    "\n",
    "```python\n",
    "df.set_index('Name')\n",
    "```\n",
    "\n",
    "🧠 Makes `Name` the row label — useful when you want to use `.loc[]` based on that.\n",
    "\n",
    "---\n",
    "\n",
    "### 🔹 3. **Reset the index**\n",
    "\n",
    "```python\n",
    "df.reset_index()\n",
    "```\n",
    "\n",
    "🧠 Brings the index back to 0, 1, 2… and makes the old index a column.\n",
    "\n",
    "---\n",
    "\n",
    "### 🔹 4. **Access a row by index label**\n",
    "\n",
    "```python\n",
    "df_with_index.loc['Alice']\n",
    "```\n",
    "\n",
    "🧠 Works only if `'Alice'` is the index label (e.g. after setting `Name` as index).\n",
    "\n",
    "---\n",
    "\n",
    "### 🔹 5. **Change index to any other column**\n",
    "\n",
    "```python\n",
    "df.set_index('Age')\n",
    "```\n",
    "\n",
    "🧠 Allows label-based navigation using `.loc[30]` etc.\n",
    "\n",
    "---\n",
    "\n",
    "\n"
   ]
  },
  {
   "cell_type": "code",
   "execution_count": 61,
   "id": "5438bd78-d918-4a22-9e7c-6d93bbf65923",
   "metadata": {},
   "outputs": [],
   "source": [
    "import pandas as pd\n",
    "\n",
    "data = {'Name': ['John', 'Alice', 'Bob', 'Eve', 'Charlie'],\n",
    "        'Age': [25, 30, 22, 35, 28],\n",
    "        'Gender': ['Male', 'Female', 'Male', 'Female', 'Male'],\n",
    "        'Salary': [50000, 55000, 40000, 70000, 48000]}\n"
   ]
  },
  {
   "cell_type": "code",
   "execution_count": 63,
   "id": "2b8a3da7-d0e9-4a91-913e-649ac13f8fb2",
   "metadata": {},
   "outputs": [
    {
     "name": "stdout",
     "output_type": "stream",
     "text": [
      "      Name  Age  Gender  Salary\n",
      "0     John   25    Male   50000\n",
      "1    Alice   30  Female   55000\n",
      "2      Bob   22    Male   40000\n",
      "3      Eve   35  Female   70000\n",
      "4  Charlie   28    Male   48000\n"
     ]
    },
    {
     "data": {
      "text/plain": [
       "RangeIndex(start=0, stop=5, step=1)"
      ]
     },
     "execution_count": 63,
     "metadata": {},
     "output_type": "execute_result"
    }
   ],
   "source": [
    "df = pd.DataFrame(data)\n",
    "print(df)\n",
    "df.index"
   ]
  },
  {
   "cell_type": "code",
   "execution_count": 65,
   "id": "7fb3c5cd-ec8f-4ca1-a795-3c780f77006e",
   "metadata": {},
   "outputs": [
    {
     "name": "stdout",
     "output_type": "stream",
     "text": [
      "         Age  Gender  Salary\n",
      "Name                        \n",
      "John      25    Male   50000\n",
      "Alice     30  Female   55000\n",
      "Bob       22    Male   40000\n",
      "Eve       35  Female   70000\n",
      "Charlie   28    Male   48000\n"
     ]
    }
   ],
   "source": [
    "df_coustomIndex = df.set_index('Name')\n",
    "print(df_coustomIndex)"
   ]
  },
  {
   "cell_type": "code",
   "execution_count": 18,
   "id": "88df820f-fca0-4107-8e1f-834a932865d1",
   "metadata": {},
   "outputs": [
    {
     "name": "stdout",
     "output_type": "stream",
     "text": [
      "        Name  Gender  Salary\n",
      "Age                         \n",
      "25      John    Male   50000\n",
      "30     Alice  Female   55000\n",
      "22       Bob    Male   40000\n",
      "35       Eve  Female   70000\n",
      "28   Charlie    Male   48000\n"
     ]
    }
   ],
   "source": [
    "df_genderIndex = df.set_index('Age')\n",
    "print(df_genderIndex)"
   ]
  },
  {
   "cell_type": "code",
   "execution_count": 22,
   "id": "3894124b-096d-4aa8-93cb-f462243b9690",
   "metadata": {},
   "outputs": [
    {
     "name": "stdout",
     "output_type": "stream",
     "text": [
      "   index     Name  Age  Gender  Salary\n",
      "0      0     John   25    Male   50000\n",
      "1      1    Alice   30  Female   55000\n",
      "2      2      Bob   22    Male   40000\n",
      "3      3      Eve   35  Female   70000\n",
      "4      4  Charlie   28    Male   48000\n"
     ]
    }
   ],
   "source": [
    "df_reset = df.reset_index()\n",
    "print(df_reset)"
   ]
  },
  {
   "cell_type": "markdown",
   "id": "4f160262-6ad0-4748-af51-239a4a6514ed",
   "metadata": {},
   "source": [
    "## 🧠 Quick Check for You (Answer These):\n",
    "\n",
    "1. What happens if you use `df.loc['Alice']` **before** setting `Name` as index?\n",
    "2. After running `df.set_index('Age')`, how would you access all rows where Age is 25?\n",
    "3. How do you reset index *without* keeping the old one as a column?\n",
    "\n",
    "Once you answer these, I’ll give you a **hands-on task** with a twist — you'll use `.loc[]` and `.set_index()` to simulate a mini lookup system!"
   ]
  },
  {
   "cell_type": "code",
   "execution_count": 67,
   "id": "edc57889-5322-4e4d-8aec-48921db61105",
   "metadata": {},
   "outputs": [],
   "source": [
    "'''\n",
    "✅ 1. What happens if you use df.loc['Alice'] before setting Name as index?\n",
    "You said: KeyError — and that is absolutely correct. ✅\n",
    "Because the default index is 0, 1, 2... — not 'Alice'.\n",
    "To make 'Alice' work with .loc[], you first have to do:\n",
    "'''\n",
    "#print(df.loc['Alice'])\n",
    "df = df.set_index('Name')"
   ]
  },
  {
   "cell_type": "code",
   "execution_count": 69,
   "id": "f8168ae1-a014-40b9-b184-38685b29c1c2",
   "metadata": {},
   "outputs": [
    {
     "data": {
      "text/plain": [
       "Gender     Male\n",
       "Salary    50000\n",
       "Name: 25, dtype: object"
      ]
     },
     "execution_count": 69,
     "metadata": {},
     "output_type": "execute_result"
    }
   ],
   "source": [
    "'''\n",
    "✅ 2. After running df.set_index('Age'), how would you access all rows where Age is 25?\n",
    "\n",
    "'''\n",
    "df = df.set_index('Age')\n",
    "\n",
    "df.loc[25]\n",
    "\n",
    "\n"
   ]
  },
  {
   "cell_type": "code",
   "execution_count": 71,
   "id": "22c93c03-6e43-4759-a0c7-21c73a4ec4fc",
   "metadata": {},
   "outputs": [
    {
     "data": {
      "text/html": [
       "<div>\n",
       "<style scoped>\n",
       "    .dataframe tbody tr th:only-of-type {\n",
       "        vertical-align: middle;\n",
       "    }\n",
       "\n",
       "    .dataframe tbody tr th {\n",
       "        vertical-align: top;\n",
       "    }\n",
       "\n",
       "    .dataframe thead th {\n",
       "        text-align: right;\n",
       "    }\n",
       "</style>\n",
       "<table border=\"1\" class=\"dataframe\">\n",
       "  <thead>\n",
       "    <tr style=\"text-align: right;\">\n",
       "      <th></th>\n",
       "      <th>Gender</th>\n",
       "      <th>Salary</th>\n",
       "    </tr>\n",
       "    <tr>\n",
       "      <th>Age</th>\n",
       "      <th></th>\n",
       "      <th></th>\n",
       "    </tr>\n",
       "  </thead>\n",
       "  <tbody>\n",
       "    <tr>\n",
       "      <th>25</th>\n",
       "      <td>Male</td>\n",
       "      <td>50000</td>\n",
       "    </tr>\n",
       "    <tr>\n",
       "      <th>30</th>\n",
       "      <td>Female</td>\n",
       "      <td>55000</td>\n",
       "    </tr>\n",
       "    <tr>\n",
       "      <th>22</th>\n",
       "      <td>Male</td>\n",
       "      <td>40000</td>\n",
       "    </tr>\n",
       "    <tr>\n",
       "      <th>35</th>\n",
       "      <td>Female</td>\n",
       "      <td>70000</td>\n",
       "    </tr>\n",
       "    <tr>\n",
       "      <th>28</th>\n",
       "      <td>Male</td>\n",
       "      <td>48000</td>\n",
       "    </tr>\n",
       "  </tbody>\n",
       "</table>\n",
       "</div>"
      ],
      "text/plain": [
       "     Gender  Salary\n",
       "Age                \n",
       "25     Male   50000\n",
       "30   Female   55000\n",
       "22     Male   40000\n",
       "35   Female   70000\n",
       "28     Male   48000"
      ]
     },
     "execution_count": 71,
     "metadata": {},
     "output_type": "execute_result"
    }
   ],
   "source": [
    "index_age"
   ]
  },
  {
   "cell_type": "code",
   "execution_count": 75,
   "id": "f38af283-5a0f-4961-9314-94e0d34c6726",
   "metadata": {},
   "outputs": [
    {
     "data": {
      "text/html": [
       "<div>\n",
       "<style scoped>\n",
       "    .dataframe tbody tr th:only-of-type {\n",
       "        vertical-align: middle;\n",
       "    }\n",
       "\n",
       "    .dataframe tbody tr th {\n",
       "        vertical-align: top;\n",
       "    }\n",
       "\n",
       "    .dataframe thead th {\n",
       "        text-align: right;\n",
       "    }\n",
       "</style>\n",
       "<table border=\"1\" class=\"dataframe\">\n",
       "  <thead>\n",
       "    <tr style=\"text-align: right;\">\n",
       "      <th></th>\n",
       "      <th>Gender</th>\n",
       "      <th>Salary</th>\n",
       "    </tr>\n",
       "  </thead>\n",
       "  <tbody>\n",
       "    <tr>\n",
       "      <th>0</th>\n",
       "      <td>Male</td>\n",
       "      <td>50000</td>\n",
       "    </tr>\n",
       "    <tr>\n",
       "      <th>1</th>\n",
       "      <td>Female</td>\n",
       "      <td>55000</td>\n",
       "    </tr>\n",
       "    <tr>\n",
       "      <th>2</th>\n",
       "      <td>Male</td>\n",
       "      <td>40000</td>\n",
       "    </tr>\n",
       "    <tr>\n",
       "      <th>3</th>\n",
       "      <td>Female</td>\n",
       "      <td>70000</td>\n",
       "    </tr>\n",
       "    <tr>\n",
       "      <th>4</th>\n",
       "      <td>Male</td>\n",
       "      <td>48000</td>\n",
       "    </tr>\n",
       "  </tbody>\n",
       "</table>\n",
       "</div>"
      ],
      "text/plain": [
       "   Gender  Salary\n",
       "0    Male   50000\n",
       "1  Female   55000\n",
       "2    Male   40000\n",
       "3  Female   70000\n",
       "4    Male   48000"
      ]
     },
     "execution_count": 75,
     "metadata": {},
     "output_type": "execute_result"
    }
   ],
   "source": [
    "df.reset_index(drop=True)"
   ]
  },
  {
   "cell_type": "code",
   "execution_count": 91,
   "id": "ef9a539e-42de-4a52-bbfe-21d2938bb367",
   "metadata": {},
   "outputs": [
    {
     "data": {
      "text/plain": [
       "'\\nLoad the employee data again\\n\\nSet \\'Name\\' as the index\\n\\nUse .loc[] to print the row for \"Eve\"\\n\\nReset the index (without keeping \"Name\" as a column)\\n'"
      ]
     },
     "execution_count": 91,
     "metadata": {},
     "output_type": "execute_result"
    }
   ],
   "source": [
    "employee_data = {'Name': ['John', 'Alice', 'Bob', 'Eve', 'Charlie'],\n",
    "        'Age': [25, 30, 22, 35, 28],\n",
    "        'Gender': ['Male', 'Female', 'Male', 'Female', 'Male'],\n",
    "        'Salary': [50000, 55000, 40000, 70000, 48000]}\n",
    "df = pd.DataFrame(employee_data)\n",
    "\n",
    "\n",
    "'''\n",
    "Load the employee data again\n",
    "\n",
    "Set 'Name' as the index\n",
    "\n",
    "Use .loc[] to print the row for \"Eve\"\n",
    "\n",
    "Reset the index (without keeping \"Name\" as a column)\n",
    "'''"
   ]
  },
  {
   "cell_type": "code",
   "execution_count": 93,
   "id": "e92f212c-8942-4b15-9d82-be74c4ac2da0",
   "metadata": {},
   "outputs": [],
   "source": [
    "df = df.set_index('Name')"
   ]
  },
  {
   "cell_type": "code",
   "execution_count": 99,
   "id": "5debba1e-6916-4d6f-9027-fe62c1b080d4",
   "metadata": {},
   "outputs": [
    {
     "data": {
      "text/plain": [
       "Age           35\n",
       "Gender    Female\n",
       "Salary     70000\n",
       "Name: Eve, dtype: object"
      ]
     },
     "execution_count": 99,
     "metadata": {},
     "output_type": "execute_result"
    }
   ],
   "source": [
    "df.loc['Eve']"
   ]
  },
  {
   "cell_type": "markdown",
   "id": "206943eb-0bb5-4f6b-8d01-a50075f1233b",
   "metadata": {},
   "source": [
    "Simple Rule:\n",
    ".iloc[] → use numbers (df.iloc[0])\n",
    "\n",
    ".loc[] → use labels (df.loc['Eve'])"
   ]
  },
  {
   "cell_type": "code",
   "execution_count": 102,
   "id": "4364a82f-cd4e-44f0-b352-d8f5fa853eb0",
   "metadata": {},
   "outputs": [],
   "source": [
    "df = df.reset_index(drop=True)"
   ]
  },
  {
   "cell_type": "code",
   "execution_count": 104,
   "id": "e9731e98-d80b-40d5-856a-f7401e99a2d3",
   "metadata": {},
   "outputs": [
    {
     "data": {
      "text/html": [
       "<div>\n",
       "<style scoped>\n",
       "    .dataframe tbody tr th:only-of-type {\n",
       "        vertical-align: middle;\n",
       "    }\n",
       "\n",
       "    .dataframe tbody tr th {\n",
       "        vertical-align: top;\n",
       "    }\n",
       "\n",
       "    .dataframe thead th {\n",
       "        text-align: right;\n",
       "    }\n",
       "</style>\n",
       "<table border=\"1\" class=\"dataframe\">\n",
       "  <thead>\n",
       "    <tr style=\"text-align: right;\">\n",
       "      <th></th>\n",
       "      <th>Age</th>\n",
       "      <th>Gender</th>\n",
       "      <th>Salary</th>\n",
       "    </tr>\n",
       "  </thead>\n",
       "  <tbody>\n",
       "    <tr>\n",
       "      <th>0</th>\n",
       "      <td>25</td>\n",
       "      <td>Male</td>\n",
       "      <td>50000</td>\n",
       "    </tr>\n",
       "    <tr>\n",
       "      <th>1</th>\n",
       "      <td>30</td>\n",
       "      <td>Female</td>\n",
       "      <td>55000</td>\n",
       "    </tr>\n",
       "    <tr>\n",
       "      <th>2</th>\n",
       "      <td>22</td>\n",
       "      <td>Male</td>\n",
       "      <td>40000</td>\n",
       "    </tr>\n",
       "    <tr>\n",
       "      <th>3</th>\n",
       "      <td>35</td>\n",
       "      <td>Female</td>\n",
       "      <td>70000</td>\n",
       "    </tr>\n",
       "    <tr>\n",
       "      <th>4</th>\n",
       "      <td>28</td>\n",
       "      <td>Male</td>\n",
       "      <td>48000</td>\n",
       "    </tr>\n",
       "  </tbody>\n",
       "</table>\n",
       "</div>"
      ],
      "text/plain": [
       "   Age  Gender  Salary\n",
       "0   25    Male   50000\n",
       "1   30  Female   55000\n",
       "2   22    Male   40000\n",
       "3   35  Female   70000\n",
       "4   28    Male   48000"
      ]
     },
     "execution_count": 104,
     "metadata": {},
     "output_type": "execute_result"
    }
   ],
   "source": [
    "df"
   ]
  },
  {
   "cell_type": "code",
   "execution_count": null,
   "id": "20ff0987-85fc-41fa-80d8-17508ba9e019",
   "metadata": {},
   "outputs": [],
   "source": []
  }
 ],
 "metadata": {
  "kernelspec": {
   "display_name": "Python [conda env:base] *",
   "language": "python",
   "name": "conda-base-py"
  },
  "language_info": {
   "codemirror_mode": {
    "name": "ipython",
    "version": 3
   },
   "file_extension": ".py",
   "mimetype": "text/x-python",
   "name": "python",
   "nbconvert_exporter": "python",
   "pygments_lexer": "ipython3",
   "version": "3.12.7"
  }
 },
 "nbformat": 4,
 "nbformat_minor": 5
}
