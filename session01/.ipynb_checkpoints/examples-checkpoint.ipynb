{
 "cells": [
  {
   "cell_type": "markdown",
   "id": "b7d00832-2660-423f-837c-27d139930485",
   "metadata": {},
   "source": [
    "\"\"\"\n",
    "hi how are you doing. This is pandas exercise for practice. You can sharpen your pandas existing knowlege withe best exercises. Thanks for attending\n"
   ]
  },
  {
   "cell_type": "code",
   "execution_count": null,
   "id": "252837bd-116d-4a5d-bc09-1eed0724c3e6",
   "metadata": {},
   "outputs": [],
   "source": []
  },
  {
   "cell_type": "code",
   "execution_count": null,
   "id": "84d0041b-c6aa-42b4-b95b-39060bca3c77",
   "metadata": {},
   "outputs": [],
   "source": []
  },
  {
   "cell_type": "code",
   "execution_count": null,
   "id": "e680bcc8-1941-4db2-83d9-0c62cd312201",
   "metadata": {},
   "outputs": [],
   "source": []
  }
 ],
 "metadata": {
  "kernelspec": {
   "display_name": "Python [conda env:base] *",
   "language": "python",
   "name": "conda-base-py"
  },
  "language_info": {
   "codemirror_mode": {
    "name": "ipython",
    "version": 3
   },
   "file_extension": ".py",
   "mimetype": "text/x-python",
   "name": "python",
   "nbconvert_exporter": "python",
   "pygments_lexer": "ipython3",
   "version": "3.12.7"
  }
 },
 "nbformat": 4,
 "nbformat_minor": 5
}
