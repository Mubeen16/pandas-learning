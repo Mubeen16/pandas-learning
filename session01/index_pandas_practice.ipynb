{
 "cells": [
  {
   "cell_type": "markdown",
   "id": "31697bf1-d956-49ff-9705-66f196e94082",
   "metadata": {},
   "source": [
    "This is a **solid summary of Pandas DataFrame Indexing**,\n",
    "\n",
    "---\n",
    "\n",
    "## ✅ Pandas Indexing: Key Concepts\n",
    "\n",
    "### 🔹 1. **Access the index**\n",
    "\n",
    "```python\n",
    "df.index\n",
    "```\n",
    "\n",
    "🧠 Tells you how rows are labeled (default: `RangeIndex`).\n",
    "\n",
    "---\n",
    "\n",
    "### 🔹 2. **Set a column as index**\n",
    "\n",
    "```python\n",
    "df.set_index('Name')\n",
    "```\n",
    "\n",
    "🧠 Makes `Name` the row label — useful when you want to use `.loc[]` based on that.\n",
    "\n",
    "---\n",
    "\n",
    "### 🔹 3. **Reset the index**\n",
    "\n",
    "```python\n",
    "df.reset_index()\n",
    "```\n",
    "\n",
    "🧠 Brings the index back to 0, 1, 2… and makes the old index a column.\n",
    "\n",
    "---\n",
    "\n",
    "### 🔹 4. **Access a row by index label**\n",
    "\n",
    "```python\n",
    "df_with_index.loc['Alice']\n",
    "```\n",
    "\n",
    "🧠 Works only if `'Alice'` is the index label (e.g. after setting `Name` as index).\n",
    "\n",
    "---\n",
    "\n",
    "### 🔹 5. **Change index to any other column**\n",
    "\n",
    "```python\n",
    "df.set_index('Age')\n",
    "```\n",
    "\n",
    "🧠 Allows label-based navigation using `.loc[30]` etc.\n",
    "\n",
    "---\n",
    "\n",
    "\n"
   ]
  },
  {
   "cell_type": "markdown",
   "id": "a9d68f40-5469-46e6-b4c7-d489c4c66fa7",
   "metadata": {},
   "source": [
    "| What You Want To Do                    | Code Example                   | Method Used             |\n",
    "| -------------------------------------- | ------------------------------ | ----------------------- |\n",
    "| View entire DataFrame                  | `df` or `print(df)`            | Basic display           |\n",
    "| Access a column                        | `df['Age']`                    | Bracket notation        |\n",
    "| Access a single row by position        | `df.iloc[1]`                   | Integer-based indexing  |\n",
    "| Access multiple rows + columns         | `df.loc[0:2, ['Name', 'Age']]` | Label-based selection   |\n",
    "| Filter rows based on condition         | `df[df['Age'] > 25]`           | Boolean condition       |\n",
    "| Access a single cell by label          | `df.at[2, 'Salary']`           | Fast label-based access |\n",
    "| Access a single cell by index position | `df.iat[2, 3]`                 | Fast integer position   |\n"
   ]
  },
  {
   "cell_type": "code",
   "execution_count": 26,
   "id": "5438bd78-d918-4a22-9e7c-6d93bbf65923",
   "metadata": {},
   "outputs": [],
   "source": [
    "import pandas as pd\n",
    "\n",
    "data = {'Name': ['John', 'Alice', 'Bob', 'Eve', 'Charlie'],\n",
    "        'Age': [25, 30, 22, 35, 28],\n",
    "        'Gender': ['Male', 'Female', 'Male', 'Female', 'Male'],\n",
    "        'Salary': [50000, 55000, 40000, 70000, 48000]}\n"
   ]
  },
  {
   "cell_type": "code",
   "execution_count": 28,
   "id": "2b8a3da7-d0e9-4a91-913e-649ac13f8fb2",
   "metadata": {},
   "outputs": [
    {
     "name": "stdout",
     "output_type": "stream",
     "text": [
      "      Name  Age  Gender  Salary\n",
      "0     John   25    Male   50000\n",
      "1    Alice   30  Female   55000\n",
      "2      Bob   22    Male   40000\n",
      "3      Eve   35  Female   70000\n",
      "4  Charlie   28    Male   48000\n"
     ]
    },
    {
     "data": {
      "text/plain": [
       "RangeIndex(start=0, stop=5, step=1)"
      ]
     },
     "execution_count": 28,
     "metadata": {},
     "output_type": "execute_result"
    }
   ],
   "source": [
    "df = pd.DataFrame(data)\n",
    "print(df)\n",
    "df.index"
   ]
  },
  {
   "cell_type": "code",
   "execution_count": 65,
   "id": "7fb3c5cd-ec8f-4ca1-a795-3c780f77006e",
   "metadata": {},
   "outputs": [
    {
     "name": "stdout",
     "output_type": "stream",
     "text": [
      "         Age  Gender  Salary\n",
      "Name                        \n",
      "John      25    Male   50000\n",
      "Alice     30  Female   55000\n",
      "Bob       22    Male   40000\n",
      "Eve       35  Female   70000\n",
      "Charlie   28    Male   48000\n"
     ]
    }
   ],
   "source": [
    "df_coustomIndex = df.set_index('Name')\n",
    "print(df_coustomIndex)"
   ]
  },
  {
   "cell_type": "code",
   "execution_count": 18,
   "id": "88df820f-fca0-4107-8e1f-834a932865d1",
   "metadata": {},
   "outputs": [
    {
     "name": "stdout",
     "output_type": "stream",
     "text": [
      "        Name  Gender  Salary\n",
      "Age                         \n",
      "25      John    Male   50000\n",
      "30     Alice  Female   55000\n",
      "22       Bob    Male   40000\n",
      "35       Eve  Female   70000\n",
      "28   Charlie    Male   48000\n"
     ]
    }
   ],
   "source": [
    "df_genderIndex = df.set_index('Age')\n",
    "print(df_genderIndex)"
   ]
  },
  {
   "cell_type": "code",
   "execution_count": 22,
   "id": "3894124b-096d-4aa8-93cb-f462243b9690",
   "metadata": {},
   "outputs": [
    {
     "name": "stdout",
     "output_type": "stream",
     "text": [
      "   index     Name  Age  Gender  Salary\n",
      "0      0     John   25    Male   50000\n",
      "1      1    Alice   30  Female   55000\n",
      "2      2      Bob   22    Male   40000\n",
      "3      3      Eve   35  Female   70000\n",
      "4      4  Charlie   28    Male   48000\n"
     ]
    }
   ],
   "source": [
    "df_reset = df.reset_index()\n",
    "print(df_reset)"
   ]
  },
  {
   "cell_type": "markdown",
   "id": "4f160262-6ad0-4748-af51-239a4a6514ed",
   "metadata": {},
   "source": [
    "## 🧠 Quick Check for You (Answer These):\n",
    "\n",
    "1. What happens if you use `df.loc['Alice']` **before** setting `Name` as index?\n",
    "2. After running `df.set_index('Age')`, how would you access all rows where Age is 25?\n",
    "3. How do you reset index *without* keeping the old one as a column?\n",
    "\n",
    "Once you answer these, I’ll give you a **hands-on task** with a twist — you'll use `.loc[]` and `.set_index()` to simulate a mini lookup system!"
   ]
  },
  {
   "cell_type": "code",
   "execution_count": 67,
   "id": "edc57889-5322-4e4d-8aec-48921db61105",
   "metadata": {},
   "outputs": [],
   "source": [
    "'''\n",
    "✅ 1. What happens if you use df.loc['Alice'] before setting Name as index?\n",
    "You said: KeyError — and that is absolutely correct. ✅\n",
    "Because the default index is 0, 1, 2... — not 'Alice'.\n",
    "To make 'Alice' work with .loc[], you first have to do:\n",
    "'''\n",
    "#print(df.loc['Alice'])\n",
    "df = df.set_index('Name')"
   ]
  },
  {
   "cell_type": "code",
   "execution_count": 69,
   "id": "f8168ae1-a014-40b9-b184-38685b29c1c2",
   "metadata": {},
   "outputs": [
    {
     "data": {
      "text/plain": [
       "Gender     Male\n",
       "Salary    50000\n",
       "Name: 25, dtype: object"
      ]
     },
     "execution_count": 69,
     "metadata": {},
     "output_type": "execute_result"
    }
   ],
   "source": [
    "'''\n",
    "✅ 2. After running df.set_index('Age'), how would you access all rows where Age is 25?\n",
    "\n",
    "'''\n",
    "df = df.set_index('Age')\n",
    "\n",
    "df.loc[25]\n",
    "\n",
    "\n"
   ]
  },
  {
   "cell_type": "code",
   "execution_count": 71,
   "id": "22c93c03-6e43-4759-a0c7-21c73a4ec4fc",
   "metadata": {},
   "outputs": [
    {
     "data": {
      "text/html": [
       "<div>\n",
       "<style scoped>\n",
       "    .dataframe tbody tr th:only-of-type {\n",
       "        vertical-align: middle;\n",
       "    }\n",
       "\n",
       "    .dataframe tbody tr th {\n",
       "        vertical-align: top;\n",
       "    }\n",
       "\n",
       "    .dataframe thead th {\n",
       "        text-align: right;\n",
       "    }\n",
       "</style>\n",
       "<table border=\"1\" class=\"dataframe\">\n",
       "  <thead>\n",
       "    <tr style=\"text-align: right;\">\n",
       "      <th></th>\n",
       "      <th>Gender</th>\n",
       "      <th>Salary</th>\n",
       "    </tr>\n",
       "    <tr>\n",
       "      <th>Age</th>\n",
       "      <th></th>\n",
       "      <th></th>\n",
       "    </tr>\n",
       "  </thead>\n",
       "  <tbody>\n",
       "    <tr>\n",
       "      <th>25</th>\n",
       "      <td>Male</td>\n",
       "      <td>50000</td>\n",
       "    </tr>\n",
       "    <tr>\n",
       "      <th>30</th>\n",
       "      <td>Female</td>\n",
       "      <td>55000</td>\n",
       "    </tr>\n",
       "    <tr>\n",
       "      <th>22</th>\n",
       "      <td>Male</td>\n",
       "      <td>40000</td>\n",
       "    </tr>\n",
       "    <tr>\n",
       "      <th>35</th>\n",
       "      <td>Female</td>\n",
       "      <td>70000</td>\n",
       "    </tr>\n",
       "    <tr>\n",
       "      <th>28</th>\n",
       "      <td>Male</td>\n",
       "      <td>48000</td>\n",
       "    </tr>\n",
       "  </tbody>\n",
       "</table>\n",
       "</div>"
      ],
      "text/plain": [
       "     Gender  Salary\n",
       "Age                \n",
       "25     Male   50000\n",
       "30   Female   55000\n",
       "22     Male   40000\n",
       "35   Female   70000\n",
       "28     Male   48000"
      ]
     },
     "execution_count": 71,
     "metadata": {},
     "output_type": "execute_result"
    }
   ],
   "source": [
    "index_age"
   ]
  },
  {
   "cell_type": "code",
   "execution_count": 30,
   "id": "f38af283-5a0f-4961-9314-94e0d34c6726",
   "metadata": {},
   "outputs": [
    {
     "data": {
      "text/html": [
       "<div>\n",
       "<style scoped>\n",
       "    .dataframe tbody tr th:only-of-type {\n",
       "        vertical-align: middle;\n",
       "    }\n",
       "\n",
       "    .dataframe tbody tr th {\n",
       "        vertical-align: top;\n",
       "    }\n",
       "\n",
       "    .dataframe thead th {\n",
       "        text-align: right;\n",
       "    }\n",
       "</style>\n",
       "<table border=\"1\" class=\"dataframe\">\n",
       "  <thead>\n",
       "    <tr style=\"text-align: right;\">\n",
       "      <th></th>\n",
       "      <th>Name</th>\n",
       "      <th>Age</th>\n",
       "      <th>Gender</th>\n",
       "      <th>Salary</th>\n",
       "    </tr>\n",
       "  </thead>\n",
       "  <tbody>\n",
       "    <tr>\n",
       "      <th>0</th>\n",
       "      <td>John</td>\n",
       "      <td>25</td>\n",
       "      <td>Male</td>\n",
       "      <td>50000</td>\n",
       "    </tr>\n",
       "    <tr>\n",
       "      <th>1</th>\n",
       "      <td>Alice</td>\n",
       "      <td>30</td>\n",
       "      <td>Female</td>\n",
       "      <td>55000</td>\n",
       "    </tr>\n",
       "    <tr>\n",
       "      <th>2</th>\n",
       "      <td>Bob</td>\n",
       "      <td>22</td>\n",
       "      <td>Male</td>\n",
       "      <td>40000</td>\n",
       "    </tr>\n",
       "    <tr>\n",
       "      <th>3</th>\n",
       "      <td>Eve</td>\n",
       "      <td>35</td>\n",
       "      <td>Female</td>\n",
       "      <td>70000</td>\n",
       "    </tr>\n",
       "    <tr>\n",
       "      <th>4</th>\n",
       "      <td>Charlie</td>\n",
       "      <td>28</td>\n",
       "      <td>Male</td>\n",
       "      <td>48000</td>\n",
       "    </tr>\n",
       "  </tbody>\n",
       "</table>\n",
       "</div>"
      ],
      "text/plain": [
       "      Name  Age  Gender  Salary\n",
       "0     John   25    Male   50000\n",
       "1    Alice   30  Female   55000\n",
       "2      Bob   22    Male   40000\n",
       "3      Eve   35  Female   70000\n",
       "4  Charlie   28    Male   48000"
      ]
     },
     "execution_count": 30,
     "metadata": {},
     "output_type": "execute_result"
    }
   ],
   "source": [
    "df.reset_index(drop=True)"
   ]
  },
  {
   "cell_type": "code",
   "execution_count": 55,
   "id": "ef9a539e-42de-4a52-bbfe-21d2938bb367",
   "metadata": {},
   "outputs": [
    {
     "data": {
      "text/plain": [
       "'\\nLoad the employee data again\\n\\nSet \\'Name\\' as the index\\n\\nUse .loc[] to print the row for \"Eve\"\\n\\nReset the index (without keeping \"Name\" as a column)\\n'"
      ]
     },
     "execution_count": 55,
     "metadata": {},
     "output_type": "execute_result"
    }
   ],
   "source": [
    "employee_data = {'Name': ['John', 'Alice', 'Bob', 'Eve', 'Charlie'],\n",
    "        'Age': [25, 30, 22, 35, 28],\n",
    "        'Gender': ['Male', 'Female', 'Male', 'Female', 'Male'],\n",
    "        'Salary': [50000, 55000, 40000, 70000, 48000]}\n",
    "df = pd.DataFrame(employee_data)\n",
    "\n",
    "\n",
    "'''\n",
    "Load the employee data again\n",
    "\n",
    "Set 'Name' as the index\n",
    "\n",
    "Use .loc[] to print the row for \"Eve\"\n",
    "\n",
    "Reset the index (without keeping \"Name\" as a column)\n",
    "'''"
   ]
  },
  {
   "cell_type": "code",
   "execution_count": 34,
   "id": "e92f212c-8942-4b15-9d82-be74c4ac2da0",
   "metadata": {},
   "outputs": [],
   "source": [
    "df = df.set_index('Name')"
   ]
  },
  {
   "cell_type": "code",
   "execution_count": 36,
   "id": "5debba1e-6916-4d6f-9027-fe62c1b080d4",
   "metadata": {},
   "outputs": [
    {
     "data": {
      "text/plain": [
       "Age           35\n",
       "Gender    Female\n",
       "Salary     70000\n",
       "Name: Eve, dtype: object"
      ]
     },
     "execution_count": 36,
     "metadata": {},
     "output_type": "execute_result"
    }
   ],
   "source": [
    "df.loc['Eve']"
   ]
  },
  {
   "cell_type": "markdown",
   "id": "206943eb-0bb5-4f6b-8d01-a50075f1233b",
   "metadata": {},
   "source": [
    "Simple Rule:\n",
    ".iloc[] → use numbers (df.iloc[0])\n",
    "\n",
    ".loc[] → use labels (df.loc['Eve'])"
   ]
  },
  {
   "cell_type": "code",
   "execution_count": 57,
   "id": "4364a82f-cd4e-44f0-b352-d8f5fa853eb0",
   "metadata": {},
   "outputs": [],
   "source": [
    "df = df.reset_index(drop=True)"
   ]
  },
  {
   "cell_type": "code",
   "execution_count": 43,
   "id": "e9731e98-d80b-40d5-856a-f7401e99a2d3",
   "metadata": {},
   "outputs": [
    {
     "data": {
      "text/plain": [
       "'Female'"
      ]
     },
     "execution_count": 43,
     "metadata": {},
     "output_type": "execute_result"
    }
   ],
   "source": [
    "df.iloc[3]['Gender']"
   ]
  },
  {
   "cell_type": "markdown",
   "id": "4c620527-3d1c-4102-8284-0792e435b325",
   "metadata": {},
   "source": [
    "\n"
   ]
  },
  {
   "cell_type": "code",
   "execution_count": 59,
   "id": "91d730e6-c825-47ee-8fff-4d333ae3f563",
   "metadata": {},
   "outputs": [
    {
     "data": {
      "text/plain": [
       "28"
      ]
     },
     "execution_count": 59,
     "metadata": {},
     "output_type": "execute_result"
    }
   ],
   "source": [
    "df[df['Name'] == 'Charlie']['Age'].values[0]\n"
   ]
  },
  {
   "cell_type": "code",
   "execution_count": 53,
   "id": "81cfdb2d-7a0f-4b27-9faf-4d8517528694",
   "metadata": {},
   "outputs": [
    {
     "ename": "KeyError",
     "evalue": "'Name'",
     "output_type": "error",
     "traceback": [
      "\u001b[0;31m---------------------------------------------------------------------------\u001b[0m",
      "\u001b[0;31mKeyError\u001b[0m                                  Traceback (most recent call last)",
      "File \u001b[0;32m/opt/anaconda3/lib/python3.12/site-packages/pandas/core/indexes/base.py:3805\u001b[0m, in \u001b[0;36mIndex.get_loc\u001b[0;34m(self, key)\u001b[0m\n\u001b[1;32m   3804\u001b[0m \u001b[38;5;28;01mtry\u001b[39;00m:\n\u001b[0;32m-> 3805\u001b[0m     \u001b[38;5;28;01mreturn\u001b[39;00m \u001b[38;5;28mself\u001b[39m\u001b[38;5;241m.\u001b[39m_engine\u001b[38;5;241m.\u001b[39mget_loc(casted_key)\n\u001b[1;32m   3806\u001b[0m \u001b[38;5;28;01mexcept\u001b[39;00m \u001b[38;5;167;01mKeyError\u001b[39;00m \u001b[38;5;28;01mas\u001b[39;00m err:\n",
      "File \u001b[0;32mindex.pyx:167\u001b[0m, in \u001b[0;36mpandas._libs.index.IndexEngine.get_loc\u001b[0;34m()\u001b[0m\n",
      "File \u001b[0;32mindex.pyx:196\u001b[0m, in \u001b[0;36mpandas._libs.index.IndexEngine.get_loc\u001b[0;34m()\u001b[0m\n",
      "File \u001b[0;32mpandas/_libs/hashtable_class_helper.pxi:7081\u001b[0m, in \u001b[0;36mpandas._libs.hashtable.PyObjectHashTable.get_item\u001b[0;34m()\u001b[0m\n",
      "File \u001b[0;32mpandas/_libs/hashtable_class_helper.pxi:7089\u001b[0m, in \u001b[0;36mpandas._libs.hashtable.PyObjectHashTable.get_item\u001b[0;34m()\u001b[0m\n",
      "\u001b[0;31mKeyError\u001b[0m: 'Name'",
      "\nThe above exception was the direct cause of the following exception:\n",
      "\u001b[0;31mKeyError\u001b[0m                                  Traceback (most recent call last)",
      "Cell \u001b[0;32mIn[53], line 1\u001b[0m\n\u001b[0;32m----> 1\u001b[0m df\u001b[38;5;241m.\u001b[39mat[\u001b[38;5;241m2\u001b[39m, \u001b[38;5;124m'\u001b[39m\u001b[38;5;124mName\u001b[39m\u001b[38;5;124m'\u001b[39m]\n",
      "File \u001b[0;32m/opt/anaconda3/lib/python3.12/site-packages/pandas/core/indexing.py:2575\u001b[0m, in \u001b[0;36m_AtIndexer.__getitem__\u001b[0;34m(self, key)\u001b[0m\n\u001b[1;32m   2572\u001b[0m         \u001b[38;5;28;01mraise\u001b[39;00m \u001b[38;5;167;01mValueError\u001b[39;00m(\u001b[38;5;124m\"\u001b[39m\u001b[38;5;124mInvalid call for scalar access (getting)!\u001b[39m\u001b[38;5;124m\"\u001b[39m)\n\u001b[1;32m   2573\u001b[0m     \u001b[38;5;28;01mreturn\u001b[39;00m \u001b[38;5;28mself\u001b[39m\u001b[38;5;241m.\u001b[39mobj\u001b[38;5;241m.\u001b[39mloc[key]\n\u001b[0;32m-> 2575\u001b[0m \u001b[38;5;28;01mreturn\u001b[39;00m \u001b[38;5;28msuper\u001b[39m()\u001b[38;5;241m.\u001b[39m\u001b[38;5;21m__getitem__\u001b[39m(key)\n",
      "File \u001b[0;32m/opt/anaconda3/lib/python3.12/site-packages/pandas/core/indexing.py:2527\u001b[0m, in \u001b[0;36m_ScalarAccessIndexer.__getitem__\u001b[0;34m(self, key)\u001b[0m\n\u001b[1;32m   2524\u001b[0m         \u001b[38;5;28;01mraise\u001b[39;00m \u001b[38;5;167;01mValueError\u001b[39;00m(\u001b[38;5;124m\"\u001b[39m\u001b[38;5;124mInvalid call for scalar access (getting)!\u001b[39m\u001b[38;5;124m\"\u001b[39m)\n\u001b[1;32m   2526\u001b[0m key \u001b[38;5;241m=\u001b[39m \u001b[38;5;28mself\u001b[39m\u001b[38;5;241m.\u001b[39m_convert_key(key)\n\u001b[0;32m-> 2527\u001b[0m \u001b[38;5;28;01mreturn\u001b[39;00m \u001b[38;5;28mself\u001b[39m\u001b[38;5;241m.\u001b[39mobj\u001b[38;5;241m.\u001b[39m_get_value(\u001b[38;5;241m*\u001b[39mkey, takeable\u001b[38;5;241m=\u001b[39m\u001b[38;5;28mself\u001b[39m\u001b[38;5;241m.\u001b[39m_takeable)\n",
      "File \u001b[0;32m/opt/anaconda3/lib/python3.12/site-packages/pandas/core/frame.py:4214\u001b[0m, in \u001b[0;36mDataFrame._get_value\u001b[0;34m(self, index, col, takeable)\u001b[0m\n\u001b[1;32m   4211\u001b[0m     series \u001b[38;5;241m=\u001b[39m \u001b[38;5;28mself\u001b[39m\u001b[38;5;241m.\u001b[39m_ixs(col, axis\u001b[38;5;241m=\u001b[39m\u001b[38;5;241m1\u001b[39m)\n\u001b[1;32m   4212\u001b[0m     \u001b[38;5;28;01mreturn\u001b[39;00m series\u001b[38;5;241m.\u001b[39m_values[index]\n\u001b[0;32m-> 4214\u001b[0m series \u001b[38;5;241m=\u001b[39m \u001b[38;5;28mself\u001b[39m\u001b[38;5;241m.\u001b[39m_get_item_cache(col)\n\u001b[1;32m   4215\u001b[0m engine \u001b[38;5;241m=\u001b[39m \u001b[38;5;28mself\u001b[39m\u001b[38;5;241m.\u001b[39mindex\u001b[38;5;241m.\u001b[39m_engine\n\u001b[1;32m   4217\u001b[0m \u001b[38;5;28;01mif\u001b[39;00m \u001b[38;5;129;01mnot\u001b[39;00m \u001b[38;5;28misinstance\u001b[39m(\u001b[38;5;28mself\u001b[39m\u001b[38;5;241m.\u001b[39mindex, MultiIndex):\n\u001b[1;32m   4218\u001b[0m     \u001b[38;5;66;03m# CategoricalIndex: Trying to use the engine fastpath may give incorrect\u001b[39;00m\n\u001b[1;32m   4219\u001b[0m     \u001b[38;5;66;03m#  results if our categories are integers that dont match our codes\u001b[39;00m\n\u001b[1;32m   4220\u001b[0m     \u001b[38;5;66;03m# IntervalIndex: IntervalTree has no get_loc\u001b[39;00m\n",
      "File \u001b[0;32m/opt/anaconda3/lib/python3.12/site-packages/pandas/core/frame.py:4638\u001b[0m, in \u001b[0;36mDataFrame._get_item_cache\u001b[0;34m(self, item)\u001b[0m\n\u001b[1;32m   4633\u001b[0m res \u001b[38;5;241m=\u001b[39m cache\u001b[38;5;241m.\u001b[39mget(item)\n\u001b[1;32m   4634\u001b[0m \u001b[38;5;28;01mif\u001b[39;00m res \u001b[38;5;129;01mis\u001b[39;00m \u001b[38;5;28;01mNone\u001b[39;00m:\n\u001b[1;32m   4635\u001b[0m     \u001b[38;5;66;03m# All places that call _get_item_cache have unique columns,\u001b[39;00m\n\u001b[1;32m   4636\u001b[0m     \u001b[38;5;66;03m#  pending resolution of GH#33047\u001b[39;00m\n\u001b[0;32m-> 4638\u001b[0m     loc \u001b[38;5;241m=\u001b[39m \u001b[38;5;28mself\u001b[39m\u001b[38;5;241m.\u001b[39mcolumns\u001b[38;5;241m.\u001b[39mget_loc(item)\n\u001b[1;32m   4639\u001b[0m     res \u001b[38;5;241m=\u001b[39m \u001b[38;5;28mself\u001b[39m\u001b[38;5;241m.\u001b[39m_ixs(loc, axis\u001b[38;5;241m=\u001b[39m\u001b[38;5;241m1\u001b[39m)\n\u001b[1;32m   4641\u001b[0m     cache[item] \u001b[38;5;241m=\u001b[39m res\n",
      "File \u001b[0;32m/opt/anaconda3/lib/python3.12/site-packages/pandas/core/indexes/base.py:3812\u001b[0m, in \u001b[0;36mIndex.get_loc\u001b[0;34m(self, key)\u001b[0m\n\u001b[1;32m   3807\u001b[0m     \u001b[38;5;28;01mif\u001b[39;00m \u001b[38;5;28misinstance\u001b[39m(casted_key, \u001b[38;5;28mslice\u001b[39m) \u001b[38;5;129;01mor\u001b[39;00m (\n\u001b[1;32m   3808\u001b[0m         \u001b[38;5;28misinstance\u001b[39m(casted_key, abc\u001b[38;5;241m.\u001b[39mIterable)\n\u001b[1;32m   3809\u001b[0m         \u001b[38;5;129;01mand\u001b[39;00m \u001b[38;5;28many\u001b[39m(\u001b[38;5;28misinstance\u001b[39m(x, \u001b[38;5;28mslice\u001b[39m) \u001b[38;5;28;01mfor\u001b[39;00m x \u001b[38;5;129;01min\u001b[39;00m casted_key)\n\u001b[1;32m   3810\u001b[0m     ):\n\u001b[1;32m   3811\u001b[0m         \u001b[38;5;28;01mraise\u001b[39;00m InvalidIndexError(key)\n\u001b[0;32m-> 3812\u001b[0m     \u001b[38;5;28;01mraise\u001b[39;00m \u001b[38;5;167;01mKeyError\u001b[39;00m(key) \u001b[38;5;28;01mfrom\u001b[39;00m \u001b[38;5;21;01merr\u001b[39;00m\n\u001b[1;32m   3813\u001b[0m \u001b[38;5;28;01mexcept\u001b[39;00m \u001b[38;5;167;01mTypeError\u001b[39;00m:\n\u001b[1;32m   3814\u001b[0m     \u001b[38;5;66;03m# If we have a listlike key, _check_indexing_error will raise\u001b[39;00m\n\u001b[1;32m   3815\u001b[0m     \u001b[38;5;66;03m#  InvalidIndexError. Otherwise we fall through and re-raise\u001b[39;00m\n\u001b[1;32m   3816\u001b[0m     \u001b[38;5;66;03m#  the TypeError.\u001b[39;00m\n\u001b[1;32m   3817\u001b[0m     \u001b[38;5;28mself\u001b[39m\u001b[38;5;241m.\u001b[39m_check_indexing_error(key)\n",
      "\u001b[0;31mKeyError\u001b[0m: 'Name'"
     ]
    }
   ],
   "source": [
    "df.at[2, 'Name']\n",
    "\n"
   ]
  },
  {
   "cell_type": "code",
   "execution_count": 65,
   "id": "bd03f91d-36a9-461c-9f8d-33e3cf37b030",
   "metadata": {},
   "outputs": [
    {
     "name": "stdout",
     "output_type": "stream",
     "text": [
      "Charlie's Age is: 4    28\n",
      "Name: Age, dtype: int64\n"
     ]
    }
   ],
   "source": [
    "import pandas as pd\n",
    "\n",
    "# Create the DataFrame\n",
    "data_n = {\n",
    "    'Name': ['John', 'Alice', 'Bob', 'Eve', 'Charlie'],\n",
    "    'Age': [25, 30, 22, 35, 28],\n",
    "    'Gender': ['Male', 'Female', 'Male', 'Female', 'Male'],\n",
    "    'Salary': [50000, 55000, 40000, 70000, 48000]\n",
    "}\n",
    "\n",
    "df = pd.DataFrame(data_n)\n",
    "\n",
    "# Access the Age of Charlie (without using index number)\n",
    "age_of_charlie = df.loc[df['Name'] == 'Charlie', 'Age']\n",
    "print(\"Charlie's Age is:\", age_of_charlie)\n"
   ]
  },
  {
   "cell_type": "code",
   "execution_count": 69,
   "id": "ff54fa13-14bb-441a-876f-71f092ad6e7b",
   "metadata": {},
   "outputs": [
    {
     "name": "stdout",
     "output_type": "stream",
     "text": [
      "Bob's Age is: 22\n"
     ]
    }
   ],
   "source": [
    "age_of_bob = df.loc[df['Name']=='Bob','Age'].values[0]\n",
    "print(\"Bob's Age is:\", age_of_bob)"
   ]
  },
  {
   "cell_type": "code",
   "execution_count": 71,
   "id": "6d8c7e5f-481c-4967-bf26-b3e00c331e72",
   "metadata": {},
   "outputs": [
    {
     "name": "stdout",
     "output_type": "stream",
     "text": [
      "Bobs Salary is:  40000\n"
     ]
    }
   ],
   "source": [
    "bob_salary = df.loc[df['Name']=='Bob', 'Salary'].values[0]\n",
    "print(\"Bobs Salary is: \", bob_salary)"
   ]
  },
  {
   "cell_type": "code",
   "execution_count": 75,
   "id": "38bb4387-6ac8-4f6f-b105-113895669d81",
   "metadata": {},
   "outputs": [
    {
     "data": {
      "text/plain": [
       "70000"
      ]
     },
     "execution_count": 75,
     "metadata": {},
     "output_type": "execute_result"
    }
   ],
   "source": [
    "eve_salary = df.loc[df['Name'] == 'Eve', 'Salary'].values[0]\n",
    "eve_salary"
   ]
  },
  {
   "cell_type": "raw",
   "id": "2e4f3219-be58-4ad5-b746-497b500653c1",
   "metadata": {},
   "source": [
    "| Type                    | Use when...                            | Method    | Example         | Key idea                        |\n",
    "| ----------------------- | -------------------------------------- | --------- | --------------- | ------------------------------- |\n",
    "| **Positional Indexing** | You know the **row number**            | `.iloc[]` | `df.iloc[2]`    | Uses **0-based row numbers**    |\n",
    "| **Label Indexing**      | You know the **row label/index value** | `.loc[]`  | `df.loc['Bob']` | Uses the **actual index value** |\n"
   ]
  },
  {
   "cell_type": "code",
   "execution_count": 80,
   "id": "6e0e9501-cfb7-4493-85cb-b133ffb37d7b",
   "metadata": {},
   "outputs": [
    {
     "data": {
      "text/plain": [
       "Name    Bob\n",
       "Age      30\n",
       "Name: 1, dtype: object"
      ]
     },
     "execution_count": 80,
     "metadata": {},
     "output_type": "execute_result"
    }
   ],
   "source": [
    "df = pd.DataFrame({\n",
    "    'Name': ['Alice', 'Bob', 'Charlie'],\n",
    "    'Age': [25, 30, 35]\n",
    "})\n",
    "\n",
    "df.iloc[1]\n",
    "\n",
    "\n"
   ]
  },
  {
   "cell_type": "code",
   "execution_count": 82,
   "id": "dd2db34b-a0b4-4754-85e6-ba198865c359",
   "metadata": {},
   "outputs": [
    {
     "data": {
      "text/plain": [
       "Name    Bob\n",
       "Age      30\n",
       "Name: 1, dtype: object"
      ]
     },
     "execution_count": 82,
     "metadata": {},
     "output_type": "execute_result"
    }
   ],
   "source": [
    "df.loc[1] #Also works here, because default index labels are 0, 1, 2"
   ]
  },
  {
   "cell_type": "code",
   "execution_count": 84,
   "id": "abc65790-d634-4cfd-91e0-b49f243ef416",
   "metadata": {},
   "outputs": [],
   "source": [
    "df_n = df = df.set_index('Name')\n"
   ]
  },
  {
   "cell_type": "markdown",
   "id": "71699232-fa35-405e-a0a0-97b362d06bdb",
   "metadata": {},
   "source": [
    "df_n.loc[1] #Gives error (no label 1 anymore!)"
   ]
  },
  {
   "cell_type": "markdown",
   "id": "c1fa26fe-0bce-4d6e-9218-63310ce0dfc8",
   "metadata": {},
   "source": [
    "Simple Rule:\n",
    ".iloc[] → use when counting rows (like in a loop or numeric index)\n",
    "\n",
    ".loc[] → use when selecting by actual index value (e.g. Name, ID, etc.)"
   ]
  },
  {
   "cell_type": "raw",
   "id": "fab6fdf2-a272-484b-adaa-3dc9441a6832",
   "metadata": {},
   "source": [
    "Let’s break down .at[] and .iat[] clearly.\n",
    "\n",
    "| Use case                 | Syntax                         | Includes last row? |\n",
    "| ------------------------ | ------------------------------ | ------------------ |\n",
    "| Label-based selection    | `df.loc[0:2, ['Name', 'Age']]` | ✅ Yes              |\n",
    "| Position-based selection | `df.iloc[0:2, [0, 1]]`         | ❌ No (excludes 2)  |\n"
   ]
  },
  {
   "cell_type": "code",
   "execution_count": 90,
   "id": "f23b7edc-437e-4eb0-aa59-8b1751dfbb00",
   "metadata": {},
   "outputs": [],
   "source": [
    "import pandas as pd\n",
    "\n",
    "data = {\n",
    "    'Name': ['John', 'Alice', 'Bob', 'Eve', 'Charlie'],\n",
    "    'Age': [25, 30, 22, 35, 28],\n",
    "    'Gender': ['Male', 'Female', 'Male', 'Female', 'Male'],\n",
    "    'Salary': [50000, 55000, 40000, 70000, 48000]\n",
    "}\n",
    "\n",
    "df = pd.DataFrame(data)"
   ]
  },
  {
   "cell_type": "code",
   "execution_count": 92,
   "id": "e468cc8a-c6a3-4416-9c3e-4303c9fbb68f",
   "metadata": {},
   "outputs": [
    {
     "data": {
      "text/plain": [
       "40000"
      ]
     },
     "execution_count": 92,
     "metadata": {},
     "output_type": "execute_result"
    }
   ],
   "source": [
    "df.at[2,'Salary']"
   ]
  },
  {
   "cell_type": "code",
   "execution_count": 94,
   "id": "fb6887cd-55df-4d48-941a-ca1a4868dece",
   "metadata": {},
   "outputs": [
    {
     "data": {
      "text/plain": [
       "40000"
      ]
     },
     "execution_count": 94,
     "metadata": {},
     "output_type": "execute_result"
    }
   ],
   "source": [
    "df.iat[2,3]"
   ]
  },
  {
   "cell_type": "code",
   "execution_count": 96,
   "id": "401628ce-e9fe-4229-b277-48b8412c917a",
   "metadata": {},
   "outputs": [
    {
     "data": {
      "text/plain": [
       "'Female'"
      ]
     },
     "execution_count": 96,
     "metadata": {},
     "output_type": "execute_result"
    }
   ],
   "source": [
    "df.at[1,'Gender']"
   ]
  },
  {
   "cell_type": "code",
   "execution_count": 98,
   "id": "c9b7873c-cea3-48a1-9efb-4797280c81b1",
   "metadata": {},
   "outputs": [
    {
     "data": {
      "text/plain": [
       "'Male'"
      ]
     },
     "execution_count": 98,
     "metadata": {},
     "output_type": "execute_result"
    }
   ],
   "source": [
    "df.iat[0,2]"
   ]
  },
  {
   "cell_type": "code",
   "execution_count": null,
   "id": "556fc5af-350a-48d7-aca6-1bc02a8dd2de",
   "metadata": {},
   "outputs": [],
   "source": []
  }
 ],
 "metadata": {
  "kernelspec": {
   "display_name": "Python [conda env:base] *",
   "language": "python",
   "name": "conda-base-py"
  },
  "language_info": {
   "codemirror_mode": {
    "name": "ipython",
    "version": 3
   },
   "file_extension": ".py",
   "mimetype": "text/x-python",
   "name": "python",
   "nbconvert_exporter": "python",
   "pygments_lexer": "ipython3",
   "version": "3.12.7"
  }
 },
 "nbformat": 4,
 "nbformat_minor": 5
}
