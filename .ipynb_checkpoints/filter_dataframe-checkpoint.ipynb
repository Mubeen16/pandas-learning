{
 "cells": [
  {
   "cell_type": "code",
   "execution_count": 6,
   "id": "a1546bdb-7281-4f37-8368-ba2679107130",
   "metadata": {},
   "outputs": [
    {
     "data": {
      "text/html": [
       "<div>\n",
       "<style scoped>\n",
       "    .dataframe tbody tr th:only-of-type {\n",
       "        vertical-align: middle;\n",
       "    }\n",
       "\n",
       "    .dataframe tbody tr th {\n",
       "        vertical-align: top;\n",
       "    }\n",
       "\n",
       "    .dataframe thead th {\n",
       "        text-align: right;\n",
       "    }\n",
       "</style>\n",
       "<table border=\"1\" class=\"dataframe\">\n",
       "  <thead>\n",
       "    <tr style=\"text-align: right;\">\n",
       "      <th></th>\n",
       "      <th>Name</th>\n",
       "      <th>Age</th>\n",
       "      <th>Salary</th>\n",
       "      <th>JOB</th>\n",
       "    </tr>\n",
       "  </thead>\n",
       "  <tbody>\n",
       "    <tr>\n",
       "      <th>0</th>\n",
       "      <td>RACHEL</td>\n",
       "      <td>30</td>\n",
       "      <td>100000</td>\n",
       "      <td>DESIGNER</td>\n",
       "    </tr>\n",
       "    <tr>\n",
       "      <th>1</th>\n",
       "      <td>MONICA</td>\n",
       "      <td>35</td>\n",
       "      <td>93000</td>\n",
       "      <td>CHEF</td>\n",
       "    </tr>\n",
       "    <tr>\n",
       "      <th>2</th>\n",
       "      <td>PHOEBE</td>\n",
       "      <td>37</td>\n",
       "      <td>88000</td>\n",
       "      <td>MASUS</td>\n",
       "    </tr>\n",
       "    <tr>\n",
       "      <th>3</th>\n",
       "      <td>ROSS</td>\n",
       "      <td>33</td>\n",
       "      <td>120000</td>\n",
       "      <td>PALENTOLOGY</td>\n",
       "    </tr>\n",
       "    <tr>\n",
       "      <th>4</th>\n",
       "      <td>CHANDLER</td>\n",
       "      <td>34</td>\n",
       "      <td>94000</td>\n",
       "      <td>IT</td>\n",
       "    </tr>\n",
       "    <tr>\n",
       "      <th>5</th>\n",
       "      <td>JOEY</td>\n",
       "      <td>30</td>\n",
       "      <td>95000</td>\n",
       "      <td>ARTIST</td>\n",
       "    </tr>\n",
       "  </tbody>\n",
       "</table>\n",
       "</div>"
      ],
      "text/plain": [
       "         Name  Age  Salary          JOB\n",
       "0    RACHEL     30  100000     DESIGNER\n",
       "1    MONICA     35   93000         CHEF\n",
       "2    PHOEBE     37   88000        MASUS\n",
       "3    ROSS       33  120000  PALENTOLOGY\n",
       "4    CHANDLER   34   94000           IT\n",
       "5    JOEY       30   95000       ARTIST"
      ]
     },
     "metadata": {},
     "output_type": "display_data"
    }
   ],
   "source": [
    "# import module\n",
    "import pandas as pd\n",
    "\n",
    "# assign data\n",
    "df = pd.DataFrame({'Name': [' RACHEL  ', ' MONICA  ', ' PHOEBE  ',\n",
    "                                   '  ROSS    ', 'CHANDLER', ' JOEY    '],\n",
    "                          \n",
    "                          'Age': [30, 35, 37, 33, 34, 30],\n",
    "                          \n",
    "                          'Salary': [100000, 93000, 88000, 120000, 94000, 95000],\n",
    "                          \n",
    "                          'JOB': ['DESIGNER', 'CHEF', 'MASUS', 'PALENTOLOGY',\n",
    "                                  'IT', 'ARTIST']})\n",
    "\n",
    "# display dataframe\n",
    "display(df)"
   ]
  },
  {
   "cell_type": "code",
   "execution_count": null,
   "id": "8249563f-9130-441f-aaff-b656bd8d6ad2",
   "metadata": {},
   "outputs": [],
   "source": []
  }
 ],
 "metadata": {
  "kernelspec": {
   "display_name": "Python [conda env:base] *",
   "language": "python",
   "name": "conda-base-py"
  },
  "language_info": {
   "codemirror_mode": {
    "name": "ipython",
    "version": 3
   },
   "file_extension": ".py",
   "mimetype": "text/x-python",
   "name": "python",
   "nbconvert_exporter": "python",
   "pygments_lexer": "ipython3",
   "version": "3.12.7"
  }
 },
 "nbformat": 4,
 "nbformat_minor": 5
}
